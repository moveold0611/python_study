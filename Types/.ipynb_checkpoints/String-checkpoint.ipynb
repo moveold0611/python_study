{
 "cells": [
  {
   "cell_type": "code",
   "execution_count": 1,
   "id": "19baded5",
   "metadata": {},
   "outputs": [],
   "source": [
    "str = \"'''''test''\""
   ]
  },
  {
   "cell_type": "code",
   "execution_count": 2,
   "id": "4d6f9e2b",
   "metadata": {},
   "outputs": [
    {
     "name": "stdout",
     "output_type": "stream",
     "text": [
      "'''''test''\n"
     ]
    }
   ],
   "source": [
    "print(str)"
   ]
  },
  {
   "cell_type": "code",
   "execution_count": 4,
   "id": "26673531",
   "metadata": {},
   "outputs": [
    {
     "name": "stdout",
     "output_type": "stream",
     "text": [
      "'aaa', \"aaa\"\n"
     ]
    }
   ],
   "source": [
    "print(\"'aaa', \\\"aaa\\\"\")"
   ]
  },
  {
   "cell_type": "code",
   "execution_count": 5,
   "id": "675c0336",
   "metadata": {},
   "outputs": [],
   "source": [
    "a = \"python\""
   ]
  },
  {
   "cell_type": "code",
   "execution_count": 6,
   "id": "a3bb8e3c",
   "metadata": {},
   "outputs": [
    {
     "name": "stdout",
     "output_type": "stream",
     "text": [
      "pythonpython\n"
     ]
    }
   ],
   "source": [
    "print(a * 2)"
   ]
  },
  {
   "cell_type": "code",
   "execution_count": 7,
   "id": "c8ea3397",
   "metadata": {},
   "outputs": [],
   "source": [
    "address = \"부산 동래구 중앙대로 1285번길\""
   ]
  },
  {
   "cell_type": "code",
   "execution_count": 8,
   "id": "6bad45ce",
   "metadata": {},
   "outputs": [
    {
     "name": "stdout",
     "output_type": "stream",
     "text": [
      "부\n"
     ]
    }
   ],
   "source": [
    "print(address[0])"
   ]
  },
  {
   "cell_type": "code",
   "execution_count": 10,
   "id": "843bcc35",
   "metadata": {},
   "outputs": [
    {
     "name": "stdout",
     "output_type": "stream",
     "text": [
      "부산 동래구\n"
     ]
    }
   ],
   "source": [
    "print(address[:6])"
   ]
  },
  {
   "cell_type": "code",
   "execution_count": 11,
   "id": "fc72ca93",
   "metadata": {},
   "outputs": [
    {
     "name": "stdout",
     "output_type": "stream",
     "text": [
      "중앙대로 1285번길\n"
     ]
    }
   ],
   "source": [
    "print(address[7:])"
   ]
  },
  {
   "cell_type": "code",
   "execution_count": 12,
   "id": "ecd55257",
   "metadata": {},
   "outputs": [],
   "source": [
    "names = [\"김준일\", \"김준이\", \"김준삼\", \"김준사\"]"
   ]
  },
  {
   "cell_type": "code",
   "execution_count": 17,
   "id": "8bfe7864",
   "metadata": {},
   "outputs": [
    {
     "name": "stdout",
     "output_type": "stream",
     "text": [
      "준일\n"
     ]
    }
   ],
   "source": [
    "print(names[0][1:])"
   ]
  },
  {
   "cell_type": "code",
   "execution_count": 18,
   "id": "ab00a692",
   "metadata": {},
   "outputs": [
    {
     "name": "stdout",
     "output_type": "stream",
     "text": [
      "준이\n"
     ]
    }
   ],
   "source": [
    "print(names[1][1:])"
   ]
  },
  {
   "cell_type": "code",
   "execution_count": 19,
   "id": "371fc960",
   "metadata": {},
   "outputs": [
    {
     "name": "stdout",
     "output_type": "stream",
     "text": [
      "준삼\n"
     ]
    }
   ],
   "source": [
    "print(names[2][1:])"
   ]
  },
  {
   "cell_type": "code",
   "execution_count": 20,
   "id": "6deeb8bf",
   "metadata": {},
   "outputs": [
    {
     "name": "stdout",
     "output_type": "stream",
     "text": [
      "준사\n"
     ]
    }
   ],
   "source": [
    "print(names[3][1:])"
   ]
  },
  {
   "cell_type": "code",
   "execution_count": 25,
   "id": "7543c35b",
   "metadata": {},
   "outputs": [
    {
     "name": "stdout",
     "output_type": "stream",
     "text": [
      "준일\n",
      "준이\n",
      "준삼\n",
      "준사\n"
     ]
    }
   ],
   "source": [
    "for i in range(4):\n",
    "    print(names[i][1:])"
   ]
  },
  {
   "cell_type": "code",
   "execution_count": 22,
   "id": "cd59ab17",
   "metadata": {},
   "outputs": [
    {
     "name": "stdout",
     "output_type": "stream",
     "text": [
      "준일\n",
      "준이\n",
      "준삼\n",
      "준사\n"
     ]
    }
   ],
   "source": [
    "for name in names:\n",
    "    print(name[1:])"
   ]
  },
  {
   "cell_type": "code",
   "execution_count": 33,
   "id": "838a4719",
   "metadata": {},
   "outputs": [
    {
     "name": "stdout",
     "output_type": "stream",
     "text": [
      "준이\n"
     ]
    }
   ],
   "source": [
    "for name in names:\n",
    "    if \"이\" in name:\n",
    "        print(name[1:])"
   ]
  },
  {
   "cell_type": "code",
   "execution_count": 34,
   "id": "69c76172",
   "metadata": {},
   "outputs": [
    {
     "name": "stdout",
     "output_type": "stream",
     "text": [
      "range(0, 10)\n"
     ]
    }
   ],
   "source": [
    "print(range(10))"
   ]
  },
  {
   "cell_type": "code",
   "execution_count": 37,
   "id": "1ccbb7b4",
   "metadata": {},
   "outputs": [
    {
     "name": "stdout",
     "output_type": "stream",
     "text": [
      "I eat 3 apples\n"
     ]
    }
   ],
   "source": [
    "print(\"I eat %d apples\" % 3)"
   ]
  },
  {
   "cell_type": "code",
   "execution_count": 38,
   "id": "06e73c21",
   "metadata": {},
   "outputs": [],
   "source": [
    "myName = '이동헌'"
   ]
  },
  {
   "cell_type": "code",
   "execution_count": 45,
   "id": "7af947fd",
   "metadata": {},
   "outputs": [],
   "source": [
    "myAge = 27"
   ]
  },
  {
   "cell_type": "code",
   "execution_count": 46,
   "id": "86a6d728",
   "metadata": {},
   "outputs": [
    {
     "name": "stdout",
     "output_type": "stream",
     "text": [
      "나의 이름은 이동헌입니다. 나이는 27입니다\n"
     ]
    }
   ],
   "source": [
    "print(f'나의 이름은 {myName}입니다. 나이는 {myAge}입니다')"
   ]
  },
  {
   "cell_type": "code",
   "execution_count": 44,
   "id": "398b2300",
   "metadata": {},
   "outputs": [
    {
     "name": "stdout",
     "output_type": "stream",
     "text": [
      "\n",
      "select\n",
      "    *\n",
      "from\n",
      "    user_tb\n",
      "where\n",
      "    username = aaa\n",
      "\n"
     ]
    }
   ],
   "source": [
    "username = 'aaa'\n",
    "sql = f\"\"\"\n",
    "select\n",
    "    *\n",
    "from\n",
    "    user_tb\n",
    "where\n",
    "    username = {username}\n",
    "\"\"\"\n",
    "print(sql)"
   ]
  },
  {
   "cell_type": "code",
   "execution_count": 47,
   "id": "79f8dfbd",
   "metadata": {},
   "outputs": [
    {
     "name": "stdout",
     "output_type": "stream",
     "text": [
      "7\n",
      "4\n",
      "13\n"
     ]
    }
   ],
   "source": [
    "b = \"아아아아메메리리리리리리리카카노\"\n",
    "print(b.count(\"리\")) # 문자 갯수\n",
    "print(b.find(\"메\")) # 위치 찾기 못찾으면 -1을 return\n",
    "print(b.index(\"카\")) # 위치 찾기 못찾으면 error 를 return"
   ]
  }
 ],
 "metadata": {
  "kernelspec": {
   "display_name": "Python 3 (ipykernel)",
   "language": "python",
   "name": "python3"
  },
  "language_info": {
   "codemirror_mode": {
    "name": "ipython",
    "version": 3
   },
   "file_extension": ".py",
   "mimetype": "text/x-python",
   "name": "python",
   "nbconvert_exporter": "python",
   "pygments_lexer": "ipython3",
   "version": "3.11.4"
  }
 },
 "nbformat": 4,
 "nbformat_minor": 5
}
