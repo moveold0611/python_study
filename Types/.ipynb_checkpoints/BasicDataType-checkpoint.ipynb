{
 "cells": [
  {
   "cell_type": "code",
   "execution_count": 8,
   "id": "50bef10c",
   "metadata": {},
   "outputs": [],
   "source": [
    "num = 10"
   ]
  },
  {
   "cell_type": "code",
   "execution_count": 10,
   "id": "6c863181",
   "metadata": {},
   "outputs": [],
   "source": [
    "num2 = 20"
   ]
  },
  {
   "cell_type": "code",
   "execution_count": 11,
   "id": "af5cdf1a",
   "metadata": {},
   "outputs": [
    {
     "data": {
      "text/plain": [
       "30"
      ]
     },
     "execution_count": 11,
     "metadata": {},
     "output_type": "execute_result"
    }
   ],
   "source": [
    "num + num2"
   ]
  },
  {
   "cell_type": "code",
   "execution_count": 12,
   "id": "1238bd59",
   "metadata": {},
   "outputs": [],
   "source": [
    "name = '이동헌'"
   ]
  },
  {
   "cell_type": "code",
   "execution_count": 13,
   "id": "5a68e6e4",
   "metadata": {},
   "outputs": [
    {
     "name": "stdout",
     "output_type": "stream",
     "text": [
      "이동헌\n"
     ]
    }
   ],
   "source": [
    "print(name)"
   ]
  },
  {
   "cell_type": "code",
   "execution_count": 20,
   "id": "0f5ecd19",
   "metadata": {},
   "outputs": [],
   "source": [
    "address = '부산광역시\\n해운대구\\n좌동'"
   ]
  },
  {
   "cell_type": "code",
   "execution_count": 21,
   "id": "ab0934de",
   "metadata": {},
   "outputs": [
    {
     "name": "stdout",
     "output_type": "stream",
     "text": [
      "부산광역시\n",
      "해운대구\n",
      "좌동\n"
     ]
    }
   ],
   "source": [
    "print(address)"
   ]
  },
  {
   "cell_type": "code",
   "execution_count": 18,
   "id": "87aeb8c5",
   "metadata": {},
   "outputs": [],
   "source": [
    "address2 = \"\"\"부산\n",
    "동래구\n",
    "중앙대로\"\"\""
   ]
  },
  {
   "cell_type": "code",
   "execution_count": 19,
   "id": "e6d00133",
   "metadata": {},
   "outputs": [
    {
     "name": "stdout",
     "output_type": "stream",
     "text": [
      "부산\n",
      "동래구\n",
      "중앙대로\n"
     ]
    }
   ],
   "source": [
    "print(address2)"
   ]
  },
  {
   "cell_type": "code",
   "execution_count": 2,
   "id": "5a868f64",
   "metadata": {},
   "outputs": [],
   "source": [
    "sql = \"\"\"\n",
    "select\n",
    "    *\n",
    "from\n",
    "    user_tb\n",
    "\"\"\""
   ]
  },
  {
   "cell_type": "code",
   "execution_count": 23,
   "id": "4c4dc4de",
   "metadata": {},
   "outputs": [
    {
     "name": "stdout",
     "output_type": "stream",
     "text": [
      "\n",
      "select\n",
      "    *\n",
      "from\n",
      "    user_tb\n",
      "\n"
     ]
    }
   ],
   "source": [
    "print(sql)"
   ]
  },
  {
   "cell_type": "code",
   "execution_count": 3,
   "id": "56a33874",
   "metadata": {},
   "outputs": [],
   "source": [
    "isEmpty = len(sql) == 0"
   ]
  },
  {
   "cell_type": "code",
   "execution_count": 5,
   "id": "c56508b9",
   "metadata": {},
   "outputs": [
    {
     "name": "stdout",
     "output_type": "stream",
     "text": [
      "False\n"
     ]
    }
   ],
   "source": [
    "print(isEmpty)"
   ]
  },
  {
   "cell_type": "code",
   "execution_count": 6,
   "id": "1381a00f",
   "metadata": {},
   "outputs": [],
   "source": [
    "isShow = True"
   ]
  },
  {
   "cell_type": "code",
   "execution_count": 7,
   "id": "28859b58",
   "metadata": {},
   "outputs": [
    {
     "name": "stdout",
     "output_type": "stream",
     "text": [
      "True\n"
     ]
    }
   ],
   "source": [
    "print(isShow)"
   ]
  },
  {
   "cell_type": "code",
   "execution_count": 8,
   "id": "2e478fad",
   "metadata": {},
   "outputs": [],
   "source": [
    "isSelect = False"
   ]
  },
  {
   "cell_type": "code",
   "execution_count": 9,
   "id": "86a267c6",
   "metadata": {},
   "outputs": [
    {
     "name": "stdout",
     "output_type": "stream",
     "text": [
      "False\n"
     ]
    }
   ],
   "source": [
    "print(isSelect)"
   ]
  },
  {
   "cell_type": "code",
   "execution_count": 13,
   "id": "37e3cf81",
   "metadata": {},
   "outputs": [
    {
     "ename": "SyntaxError",
     "evalue": "invalid syntax (3339961088.py, line 1)",
     "output_type": "error",
     "traceback": [
      "\u001b[1;36m  Cell \u001b[1;32mIn[13], line 1\u001b[1;36m\u001b[0m\n\u001b[1;33m    print(isShow && isSelect) # 사용하지 않음\u001b[0m\n\u001b[1;37m                  ^\u001b[0m\n\u001b[1;31mSyntaxError\u001b[0m\u001b[1;31m:\u001b[0m invalid syntax\n"
     ]
    }
   ],
   "source": [
    "print(isShow && isSelect) # 사용하지 않음"
   ]
  },
  {
   "cell_type": "code",
   "execution_count": 10,
   "id": "38bae555",
   "metadata": {},
   "outputs": [
    {
     "name": "stdout",
     "output_type": "stream",
     "text": [
      "False\n"
     ]
    }
   ],
   "source": [
    "print(isShow and isSelect)"
   ]
  },
  {
   "cell_type": "code",
   "execution_count": 11,
   "id": "23f22911",
   "metadata": {},
   "outputs": [
    {
     "name": "stdout",
     "output_type": "stream",
     "text": [
      "True\n"
     ]
    }
   ],
   "source": [
    "print(isShow and not isSelect)"
   ]
  },
  {
   "cell_type": "code",
   "execution_count": 12,
   "id": "6c54d8a3",
   "metadata": {},
   "outputs": [
    {
     "name": "stdout",
     "output_type": "stream",
     "text": [
      "True\n"
     ]
    }
   ],
   "source": [
    "print(isShow or isSelect)"
   ]
  },
  {
   "cell_type": "code",
   "execution_count": null,
   "id": "20526d66",
   "metadata": {},
   "outputs": [],
   "source": []
  }
 ],
 "metadata": {
  "kernelspec": {
   "display_name": "Python 3 (ipykernel)",
   "language": "python",
   "name": "python3"
  },
  "language_info": {
   "codemirror_mode": {
    "name": "ipython",
    "version": 3
   },
   "file_extension": ".py",
   "mimetype": "text/x-python",
   "name": "python",
   "nbconvert_exporter": "python",
   "pygments_lexer": "ipython3",
   "version": "3.11.4"
  }
 },
 "nbformat": 4,
 "nbformat_minor": 5
}
