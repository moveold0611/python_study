{
 "cells": [
  {
   "cell_type": "code",
   "execution_count": 1,
   "id": "0e4fc608",
   "metadata": {},
   "outputs": [],
   "source": [
    "list = [1, 2, 3, [\"이동헌\", '27'], True, 3.14, \"짜장면\"]"
   ]
  },
  {
   "cell_type": "code",
   "execution_count": 2,
   "id": "d1819506",
   "metadata": {},
   "outputs": [
    {
     "name": "stdout",
     "output_type": "stream",
     "text": [
      "[1, 2, 3, ['이동헌', '27'], True, 3.14, '짜장면']\n"
     ]
    }
   ],
   "source": [
    "print(list)"
   ]
  },
  {
   "cell_type": "code",
   "execution_count": 3,
   "id": "db8677c7",
   "metadata": {},
   "outputs": [
    {
     "name": "stdout",
     "output_type": "stream",
     "text": [
      "짜장면\n"
     ]
    }
   ],
   "source": [
    "print(list[-1])"
   ]
  },
  {
   "cell_type": "code",
   "execution_count": 5,
   "id": "8941b774",
   "metadata": {},
   "outputs": [
    {
     "name": "stdout",
     "output_type": "stream",
     "text": [
      "동헌\n"
     ]
    }
   ],
   "source": [
    "print(list[3][-2][1:])"
   ]
  },
  {
   "cell_type": "code",
   "execution_count": 9,
   "id": "d47236d7",
   "metadata": {},
   "outputs": [
    {
     "name": "stdout",
     "output_type": "stream",
     "text": [
      "[1, 2, 3, 4, 5, 6, 7, 8]\n",
      "[1, 2, 3, 4, 5, 6, 7, 8]\n",
      "[1, 2, 3, 4, 5, 6, 7, 8, 1, 2, 3, 4, 5, 6, 7, 8]\n"
     ]
    }
   ],
   "source": [
    "list2 = [1,2,3,4]\n",
    "list3 = [5,6,7,8]\n",
    "\n",
    "print(list2 + list3)\n",
    "\n",
    "list2.extend(list3)\n",
    "print(list2)\n",
    "\n",
    "print(list2 * 2)"
   ]
  },
  {
   "cell_type": "code",
   "execution_count": 13,
   "id": "bbbcc682",
   "metadata": {},
   "outputs": [
    {
     "name": "stdout",
     "output_type": "stream",
     "text": [
      "(1, 2, 3, 4)\n",
      "2\n",
      "(2,)\n"
     ]
    }
   ],
   "source": [
    "tuplelist = (1,2,3,4) # 튜플 (수정 불가능)\n",
    "print(tuplelist)\n",
    "num = (1+1)\n",
    "print(num)\n",
    "justOneTuple = (1+1,)\n",
    "print(justOneTuple)"
   ]
  },
  {
   "cell_type": "code",
   "execution_count": 17,
   "id": "d28e2aee",
   "metadata": {},
   "outputs": [
    {
     "name": "stdout",
     "output_type": "stream",
     "text": [
      "{1: 'a', 2: 'b'}\n"
     ]
    }
   ],
   "source": [
    "# dictionary /map과 같음\n",
    "a = {1: 'a'} #  변수만들기 : 변수명 = {key: value}\n",
    "a[2] = 'b' # 변수에 추가 : 변수명[key] = value\n",
    "print(a)\n"
   ]
  },
  {
   "cell_type": "code",
   "execution_count": 18,
   "id": "03fc0783",
   "metadata": {},
   "outputs": [
    {
     "name": "stdout",
     "output_type": "stream",
     "text": [
      "{2: 'b'}\n"
     ]
    }
   ],
   "source": [
    "del a[1] # 요소 삭제 del 변수명[key]\n",
    "print(a)"
   ]
  },
  {
   "cell_type": "code",
   "execution_count": 20,
   "id": "00dd39f2",
   "metadata": {},
   "outputs": [
    {
     "name": "stdout",
     "output_type": "stream",
     "text": [
      "dict_keys([2])\n",
      "dict_values(['b'])\n"
     ]
    }
   ],
   "source": [
    "print(a.keys()) # key 꺼내기\n",
    "print(a.values()) # value 꺼내기\n"
   ]
  },
  {
   "cell_type": "code",
   "execution_count": null,
   "id": "cbabb5ae",
   "metadata": {},
   "outputs": [],
   "source": [
    "# 변수명.clear() 전부 삭제\n",
    "# 변수명.get(key) value 반환\n",
    "# "
   ]
  },
  {
   "cell_type": "code",
   "execution_count": null,
   "id": "b03861aa",
   "metadata": {},
   "outputs": [],
   "source": []
  }
 ],
 "metadata": {
  "kernelspec": {
   "display_name": "Python 3 (ipykernel)",
   "language": "python",
   "name": "python3"
  },
  "language_info": {
   "codemirror_mode": {
    "name": "ipython",
    "version": 3
   },
   "file_extension": ".py",
   "mimetype": "text/x-python",
   "name": "python",
   "nbconvert_exporter": "python",
   "pygments_lexer": "ipython3",
   "version": "3.11.4"
  }
 },
 "nbformat": 4,
 "nbformat_minor": 5
}
