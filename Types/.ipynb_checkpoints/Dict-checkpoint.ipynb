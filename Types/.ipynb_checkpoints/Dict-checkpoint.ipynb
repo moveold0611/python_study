{
 "cells": [
  {
   "cell_type": "code",
   "execution_count": 4,
   "id": "e0ebd732",
   "metadata": {},
   "outputs": [
    {
     "name": "stdout",
     "output_type": "stream",
     "text": [
      "a\n",
      "a\n"
     ]
    }
   ],
   "source": [
    "v1 = dict[1]\n",
    "v2 = dict.get(1) #오류 반환 가능\n",
    "\n",
    "print(v1)\n",
    "print(v2)"
   ]
  },
  {
   "cell_type": "code",
   "execution_count": 5,
   "id": "5e7f85ec",
   "metadata": {},
   "outputs": [
    {
     "name": "stdout",
     "output_type": "stream",
     "text": [
      "12\n"
     ]
    }
   ],
   "source": [
    "a = 10\n",
    "a = eval('a+2') # eval - 문자열을 실행문으로 바꿔준다\n",
    "print(a)"
   ]
  },
  {
   "cell_type": "code",
   "execution_count": 7,
   "id": "4725ec0b",
   "metadata": {},
   "outputs": [],
   "source": [
    "import json"
   ]
  },
  {
   "cell_type": "code",
   "execution_count": 14,
   "id": "b665134b",
   "metadata": {},
   "outputs": [
    {
     "name": "stdout",
     "output_type": "stream",
     "text": [
      "{'userId': 1, 'username': 'aaa', 'password': '1234', 'name': '이동헌', 'email': 'aaa@gmail.com'}\n",
      "{\"userId\": 1, \"username\": \"aaa\", \"password\": \"1234\", \"name\": \"\\uc774\\ub3d9\\ud5cc\", \"email\": \"aaa@gmail.com\"}\n",
      "{'userId': 1, 'username': 'aaa', 'password': '1234', 'name': '이동헌', 'email': 'aaa@gmail.com'}\n",
      "이동헌\n",
      "이동헌\n"
     ]
    }
   ],
   "source": [
    "user = {\n",
    "    'userId': 1,\n",
    "    'username': \"aaa\",\n",
    "    'password': '1234',\n",
    "    'name': '이동헌',\n",
    "    'email': 'aaa@gmail.com'\n",
    "}\n",
    "print(user)\n",
    "userJson = json.dumps(user)\n",
    "print(userJson)\n",
    "\n",
    "newUser = json.loads(userJson)\n",
    "print(newUser)\n",
    "\n",
    "print(newUser.get(\"name\"))\n",
    "\n",
    "newUser2 = eval(userJson)\n",
    "print(newUser2.get('name'))"
   ]
  },
  {
   "cell_type": "code",
   "execution_count": 15,
   "id": "aa2c815c",
   "metadata": {},
   "outputs": [
    {
     "name": "stdout",
     "output_type": "stream",
     "text": [
      "{1, 2, 3}\n"
     ]
    }
   ],
   "source": [
    "# set - 주로 중복 제거 목적으로 사용\n",
    "s1 = set([1,2,3]) # 중복값 입력 불가\n",
    "print(s1)\n",
    "# add(), update(), remove()"
   ]
  }
 ],
 "metadata": {
  "kernelspec": {
   "display_name": "Python 3 (ipykernel)",
   "language": "python",
   "name": "python3"
  },
  "language_info": {
   "codemirror_mode": {
    "name": "ipython",
    "version": 3
   },
   "file_extension": ".py",
   "mimetype": "text/x-python",
   "name": "python",
   "nbconvert_exporter": "python",
   "pygments_lexer": "ipython3",
   "version": "3.11.4"
  }
 },
 "nbformat": 4,
 "nbformat_minor": 5
}
