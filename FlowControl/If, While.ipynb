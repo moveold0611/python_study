{
 "cells": [
  {
   "cell_type": "code",
   "execution_count": 1,
   "id": "4a76230e",
   "metadata": {},
   "outputs": [
    {
     "name": "stdout",
     "output_type": "stream",
     "text": [
      "참\n"
     ]
    }
   ],
   "source": [
    "username = 'aaa'\n",
    "password = '1234'\n",
    "\n",
    "if username == 'aaa' and password == '1234':\n",
    "    print(\"참\")\n",
    "else:\n",
    "    print('거짓')"
   ]
  },
  {
   "cell_type": "code",
   "execution_count": 3,
   "id": "a3fc527e",
   "metadata": {},
   "outputs": [
    {
     "name": "stdout",
     "output_type": "stream",
     "text": [
      "password가 1234\n"
     ]
    }
   ],
   "source": [
    "if username == 'bbb':\n",
    "    print('username이 aaa')\n",
    "elif(password == '1234'):\n",
    "    print('password가 1234')\n",
    "else:\n",
    "    pring('둘다 x')"
   ]
  },
  {
   "cell_type": "code",
   "execution_count": 7,
   "id": "acf6609f",
   "metadata": {},
   "outputs": [
    {
     "name": "stdout",
     "output_type": "stream",
     "text": [
      "메뉴입력: 1\n",
      "while 반복\n",
      "메뉴입력: 2\n",
      "while 반복\n",
      "메뉴입력: 3\n",
      "while 반복\n",
      "메뉴입력: ㅂ\n",
      "while 반복\n",
      "메뉴입력: q\n"
     ]
    }
   ],
   "source": [
    "while True:\n",
    "    menu = input(\"메뉴입력: \")\n",
    "    if menu == \"q\":\n",
    "         break;\n",
    "                 \n",
    "    print(\"while 반복\")"
   ]
  }
 ],
 "metadata": {
  "kernelspec": {
   "display_name": "Python 3 (ipykernel)",
   "language": "python",
   "name": "python3"
  },
  "language_info": {
   "codemirror_mode": {
    "name": "ipython",
    "version": 3
   },
   "file_extension": ".py",
   "mimetype": "text/x-python",
   "name": "python",
   "nbconvert_exporter": "python",
   "pygments_lexer": "ipython3",
   "version": "3.11.4"
  }
 },
 "nbformat": 4,
 "nbformat_minor": 5
}
