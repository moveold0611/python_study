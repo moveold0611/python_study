{
 "cells": [
  {
   "cell_type": "code",
   "execution_count": 1,
   "id": "c8b1cfb7",
   "metadata": {},
   "outputs": [
    {
     "name": "stdout",
     "output_type": "stream",
     "text": [
      "참\n"
     ]
    }
   ],
   "source": [
    "username = 'aaa'\n",
    "password = '1234'\n",
    "\n",
    "if username == 'aaa' and password == '1234':\n",
    "    print(\"참\")\n",
    "else:\n",
    "    print('거짓')"
   ]
  }
 ],
 "metadata": {
  "kernelspec": {
   "display_name": "Python 3 (ipykernel)",
   "language": "python",
   "name": "python3"
  },
  "language_info": {
   "codemirror_mode": {
    "name": "ipython",
    "version": 3
   },
   "file_extension": ".py",
   "mimetype": "text/x-python",
   "name": "python",
   "nbconvert_exporter": "python",
   "pygments_lexer": "ipython3",
   "version": "3.11.4"
  }
 },
 "nbformat": 4,
 "nbformat_minor": 5
}
