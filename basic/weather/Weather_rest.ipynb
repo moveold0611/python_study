{
 "cells": [
  {
   "cell_type": "code",
   "execution_count": null,
   "metadata": {},
   "outputs": [],
   "source": [
    "import requests\n",
    "import pandas as pd\n",
    "url = 'http://apis.data.go.kr/1360000/MidFcstInfoService/getMidLandFcst'\n",
    "params ={\n",
    "    'serviceKey' : 'T/+Z6GzznTN0SpyMmW2U/u1X/xvu55Vwh9W1HXdfoGXCh8xSaBrLtJzmN7SEKRV43g5u20KxytQdqjJC8pc07Q==',\n",
    "    'pageNo' : '1',\n",
    "    'numOfRows' : '10', \n",
    "    'dataType' : 'JSON', \n",
    "    'regId' : '11H20000', \n",
    "    'tmFc' : '202309150600' \n",
    "}\n",
    "\n",
    "response = requests.get(url, params=params)\n",
    "response.encoding = \"UTF-8\"\n",
    "print(response.content)\n",
    "responseDict = eval(response.content)\n",
    "print(responseDict)\n"
   ]
  }
 ],
 "metadata": {
  "language_info": {
   "name": "python"
  },
  "orig_nbformat": 4
 },
 "nbformat": 4,
 "nbformat_minor": 2
}
