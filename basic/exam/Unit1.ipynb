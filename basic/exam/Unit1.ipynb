{
 "cells": [
  {
   "cell_type": "code",
   "execution_count": 46,
   "metadata": {},
   "outputs": [
    {
     "name": "stdout",
     "output_type": "stream",
     "text": [
      "[ 입력 데이터 ]    =>     799가 1234\n",
      "[ 딕셔너리 변환 ]     =>     {'type': '799', 'purpose': '가', 'number': '1234'}\n",
      "[ 차량 정보 ]     =>     {'type': '승합차', 'purpose': '비상업용', 'number': '1234'}\n"
     ]
    }
   ],
   "source": [
    "# 차량 번호를 입력 받아 차종, 용도를 판별하는 프로그램을 작성하시오.\n",
    "import numpy as np\n",
    "import re\n",
    "carNum = input(\"차량 번호 입력: \")\n",
    "\n",
    "startCarNum = carNum.split(\" \")[0]\n",
    "endCarNum = carNum.split(\" \")[1]\n",
    "\n",
    "purpose = startCarNum[-1:]\n",
    "type = startCarNum[:startCarNum.index(purpose)]\n",
    "\n",
    "carDict = {\n",
    "    'type': type,\n",
    "    'purpose': purpose,\n",
    "    'number': endCarNum\n",
    "}\n",
    "\n",
    "if type != type.zfill(3) or type[:1] == '0':\n",
    "    type = \"오류\"\n",
    "elif type != re.sub(r'[^0-9]', '', type):\n",
    "    type = \"오류\"\n",
    "else:\n",
    "    if int(type) < 700:\n",
    "        type = \"승용차\"\n",
    "    elif 701 < int(type) < 800:\n",
    "        type = \"승합차\"\n",
    "    elif 801 < int(type) < 980:\n",
    "        type = \"화물차\"\n",
    "    elif 981 < int(type) < 998:\n",
    "        type = \"특수차\"\n",
    "    else:\n",
    "        type = \"긴급차\"\n",
    "\n",
    "purposeType1 = ['가', '나', '다', '라', '마', '거', '너',\n",
    "             '더', '러', '머', '버', '서', '어', '저',\n",
    "               '고', '노', '도', '로', '모', '보', '소',\n",
    "                 '오', '조', '구', '누', '두', '루', '무',\n",
    "                  '부', '수', '우', '주']\n",
    "\n",
    "purposeType2 = ['아', '바', '사', '자']\n",
    "\n",
    "purposeType3 = ['허', '하', '호']\n",
    "\n",
    "purpose = \"오류\"\n",
    "for pt in purposeType1:\n",
    "    if carDict['purpose'] == pt:\n",
    "        purpose = \"비상업용\"\n",
    "        break\n",
    "for pt in purposeType2:\n",
    "    if carDict['purpose'] == pt:\n",
    "        purpose = \"운수사업용\"\n",
    "        break\n",
    "\n",
    "for pt in purposeType3:\n",
    "    if carDict['purpose'] == pt:\n",
    "        purpose = \"택배차\"\n",
    "        break\n",
    "if carDict['purpose'] == '배':\n",
    "    purpose = \"택배차\"\n",
    "\n",
    "if endCarNum != endCarNum.zfill(4) or endCarNum[:1] == '0':\n",
    "    endCarNum = '오류'\n",
    "elif endCarNum != re.sub(r'[^0-9]', '', endCarNum):\n",
    "    endCarNum = '오류'\n",
    "\n",
    "carInfo = {\n",
    "    'type': type,\n",
    "    'purpose': purpose,\n",
    "    'number': endCarNum\n",
    "}\n",
    "\n",
    "print(\"[ 입력 데이터 ]    =>     \" + carNum )\n",
    "print(\"[ 딕셔너리 변환 ]     =>     \" + str(carDict))\n",
    "print(\"[ 차량 정보 ]     =>     \" + str(carInfo))"
   ]
  },
  {
   "cell_type": "code",
   "execution_count": null,
   "metadata": {},
   "outputs": [],
   "source": [
    "[ 입력 데이터 ]    =>     98포 4332\n",
    "[ 딕셔너리 변환 ]     =>     {'type': '98', 'purpose': '포', 'number': '4332'}\n",
    "[ 차량 정보 ]     =>     {'type': '오류', 'purpose': '오류', 'number': '4332'}\n",
    "\n",
    "[ 입력 데이터 ]    =>     799가 1234\n",
    "[ 딕셔너리 변환 ]     =>     {'type': '799', 'purpose': '가', 'number': '1234'}\n",
    "[ 차량 정보 ]     =>     {'type': '승합차', 'purpose': '비상업용', 'number': '1234'}"
   ]
  }
 ],
 "metadata": {
  "kernelspec": {
   "display_name": "base",
   "language": "python",
   "name": "python3"
  },
  "language_info": {
   "codemirror_mode": {
    "name": "ipython",
    "version": 3
   },
   "file_extension": ".py",
   "mimetype": "text/x-python",
   "name": "python",
   "nbconvert_exporter": "python",
   "pygments_lexer": "ipython3",
   "version": "3.11.5"
  },
  "orig_nbformat": 4
 },
 "nbformat": 4,
 "nbformat_minor": 2
}
