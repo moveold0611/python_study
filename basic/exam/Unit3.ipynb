{
 "cells": [
  {
   "cell_type": "code",
   "execution_count": 136,
   "metadata": {},
   "outputs": [
    {
     "name": "stdout",
     "output_type": "stream",
     "text": [
      "[ 출력결과 ]\n",
      "[[6. 6. 6. 6. 6.]\n",
      " [6. 6. 6. 6. 6.]\n",
      " [6. 6. 6. 6. 6.]\n",
      " [6. 6. 6. 6. 6.]\n",
      " [6. 6. 6. 6. 6.]]\n",
      "\n",
      "[ 출력결과 ]\n",
      "[[36.  6.  6.  6. 36.]\n",
      " [ 6. 36.  6. 36.  6.]\n",
      " [ 6.  6. 36.  6.  6.]\n",
      " [ 6. 36.  6. 36.  6.]\n",
      " [36.  6.  6.  6. 36.]]\n"
     ]
    }
   ],
   "source": [
    "import numpy as np\n",
    "\n",
    "np_array_one = np.ones(5)\n",
    "\n",
    "np_array1 = np.full((5, 5), np_array_one)\n",
    "np_array2 = np.full((5, 5), 5)\n",
    "\n",
    "np_array3 = np_array1 + np_array2\n",
    "np_array4 = np_array1 + np_array2\n",
    "\n",
    "for count in range(5):\n",
    "    np_array4[count][count] = (np_array1[0][0] + np_array2[0][0]) ** 2\n",
    "    np_array4[count][len(range(5 - 1)) - count] = (np_array1[0][0] + np_array2[0][0]) ** 2\n",
    "\n",
    "i = 2\n",
    "np_array4[i][i] = (np_array1[i][i] + np_array2[i][i]) ** 2\n",
    "\n",
    "print(\"[ 출력결과 ]\")\n",
    "print(np_array3)\n",
    "print()\n",
    "print(\"[ 출력결과 ]\")\n",
    "print(np_array4)"
   ]
  },
  {
   "cell_type": "code",
   "execution_count": null,
   "metadata": {},
   "outputs": [],
   "source": [
    "[ 출력결과 ]\n",
    "[[6. 6. 6. 6. 6.]\n",
    " [6. 6. 6. 6. 6.]\n",
    " [6. 6. 6. 6. 6.]\n",
    " [6. 6. 6. 6. 6.]\n",
    " [6. 6. 6. 6. 6.]]\n",
    "\n",
    "[ 출력결과 ]\n",
    "[[36.  6.  6.  6. 36.]\n",
    " [ 6. 36.  6. 36.  6.]\n",
    " [ 6.  6. 36.  6.  6.]\n",
    " [ 6. 36.  6. 36.  6.]\n",
    " [36.  6.  6.  6. 36.]]"
   ]
  }
 ],
 "metadata": {
  "kernelspec": {
   "display_name": "base",
   "language": "python",
   "name": "python3"
  },
  "language_info": {
   "codemirror_mode": {
    "name": "ipython",
    "version": 3
   },
   "file_extension": ".py",
   "mimetype": "text/x-python",
   "name": "python",
   "nbconvert_exporter": "python",
   "pygments_lexer": "ipython3",
   "version": "3.11.5"
  },
  "orig_nbformat": 4
 },
 "nbformat": 4,
 "nbformat_minor": 2
}
