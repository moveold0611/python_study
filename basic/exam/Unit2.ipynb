{
 "cells": [
  {
   "cell_type": "code",
   "execution_count": 2,
   "metadata": {},
   "outputs": [
    {
     "name": "stdout",
     "output_type": "stream",
     "text": [
      "[ 종가평균 ]   =>   10520.0\n"
     ]
    }
   ],
   "source": [
    "# 다음은 대신증권의 최근 5일 종가 데이터이다. 최근 5일치 종가를 리스트에 입력받고 평균 값을 출력하라.\n",
    "\n",
    "data = input(\"종가입력: \")\n",
    "\n",
    "data_list = []\n",
    "\n",
    "for i in range(1, data.count(\", \") + 1 + 1):\n",
    "    data_list.append(data.split(\", \")[i - 1])\n",
    "\n",
    "num = 0\n",
    "for dataNum in data_list:\n",
    "     num += int(dataNum)\n",
    "\n",
    "print(\"[ 종가평균 ]   =>   \" + str(num / (data.count(\", \") + 1)))"
   ]
  },
  {
   "cell_type": "code",
   "execution_count": null,
   "metadata": {},
   "outputs": [],
   "source": [
    "[ 종가평균 ]   =>   10520.0"
   ]
  }
 ],
 "metadata": {
  "kernelspec": {
   "display_name": "base",
   "language": "python",
   "name": "python3"
  },
  "language_info": {
   "codemirror_mode": {
    "name": "ipython",
    "version": 3
   },
   "file_extension": ".py",
   "mimetype": "text/x-python",
   "name": "python",
   "nbconvert_exporter": "python",
   "pygments_lexer": "ipython3",
   "version": "3.11.5"
  },
  "orig_nbformat": 4
 },
 "nbformat": 4,
 "nbformat_minor": 2
}
