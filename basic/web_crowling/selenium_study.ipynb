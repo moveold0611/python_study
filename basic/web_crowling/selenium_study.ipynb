{
 "cells": [
  {
   "cell_type": "code",
   "execution_count": 12,
   "metadata": {},
   "outputs": [],
   "source": [
    "import requests\n",
    "from selenium import webdriver # 크롬 드라이버\n",
    "import time\n",
    "from webdriver_manager.chrome import ChromeDriverManager\n",
    "url = \"https://comic.naver.com/webtoon?tab=mon\"\n",
    "# url = \"https://naver.com\"\n",
    "\n",
    "driver = webdriver.Chrome(ChromeDriverManager().install()).get(url)\n",
    "\n",
    "time.sleep(2)\n",
    "\n",
    "# searchInput = driver.find_elements_by_css_selector(\"body\")\n",
    "\n",
    "# print(searchInput)\n",
    "# response =requests.get(url) \n",
    "# html = bs(response)\n",
    "\n",
    "# print(html)\n",
    "# items = html.select(\"body > div\")\n",
    "# print(items)\n",
    "\n",
    "# for item in items:\n",
    "#     title = item.select_one(\"div > a > span > span\").text\n",
    "#     img = item.select_one(\"a > div > img\")\n",
    "#     print(title)"
   ]
  }
 ],
 "metadata": {
  "kernelspec": {
   "display_name": "base",
   "language": "python",
   "name": "python3"
  },
  "language_info": {
   "codemirror_mode": {
    "name": "ipython",
    "version": 3
   },
   "file_extension": ".py",
   "mimetype": "text/x-python",
   "name": "python",
   "nbconvert_exporter": "python",
   "pygments_lexer": "ipython3",
   "version": "3.11.5"
  },
  "orig_nbformat": 4
 },
 "nbformat": 4,
 "nbformat_minor": 2
}
