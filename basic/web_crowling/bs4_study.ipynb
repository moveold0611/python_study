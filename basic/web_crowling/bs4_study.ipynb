{
 "cells": [
  {
   "cell_type": "code",
   "execution_count": null,
   "metadata": {},
   "outputs": [],
   "source": [
    "# 웹 크롤링, 웹 스크래핑\n",
    "# 크롤링 -> 전체를 다 가져온다\n",
    "# 스크래핑 -> 필요한 부분만 가져온다\n",
    "# 정적 크롤링, 동적 크롤링\n",
    "\n",
    "# 파싱 패키지(라이브러리)\n",
    "# 정적 크롤링 -> beautifulsoup\n",
    "# 동적 크롤링 -> beautifulsoup, selenium\n",
    "# 크롬으로 진행 (크롬 드라이브) 필요\n",
    "\n",
    "    "
   ]
  },
  {
   "cell_type": "code",
   "execution_count": 16,
   "metadata": {},
   "outputs": [
    {
     "name": "stdout",
     "output_type": "stream",
     "text": [
      "쿤달 퍼퓸 디퓨저 200ml 3개 + 섬유스틱 15개 세트, 블랙체리향\n",
      "설화수 New 자음2종, 1세트\n",
      "동원 튜나리챔 선물세트 O-68호 + 부직포백, 1세트\n",
      "넛츠팜 프리미엄 견과 선물세트 4호, 1150g, 1세트\n",
      "이동갈비 소고기 한입 LA양념갈비 선물세트 (냉동), 500g, 4개\n",
      "종근당 침향환 골드, 225g, 1개\n",
      "떡편 감사세트 1호 24개입 (냉동), 1080g, 1세트\n",
      "애경 명화의 품격 O-2호 선물세트, 1세트\n",
      "코멧 깨끗한 천연펄프 키친타월 150매, 8개\n",
      "바디프랜드 레그넘 안마의자 + 러그(랜덤발송) 방문설치, BFK-5000, 오트베이지\n",
      "청정원 행복 2호, 1세트\n",
      "타야스 투바나 초콜렛, 1600g, 1개\n",
      "\n",
      "\n",
      "\n",
      "\n"
     ]
    }
   ],
   "source": [
    "import requests\n",
    "import bs4 as bs\n",
    "from bs4 import BeautifulSoup as bs\n",
    "url = \"https://pages.coupang.com/p/96636\"\n",
    "\n",
    "response = requests.get(url)\n",
    "\n",
    "\n",
    "html = bs(response.text, \"html.parser\")\n",
    "findInfo_SectionTitle = html.find_all(\"span\", class_=\"info_section__title\") # 매개변수로 조건을 받아 모두 찾기\n",
    "\n",
    "for title in findInfo_SectionTitle:\n",
    "    print(title.text)\n"
   ]
  }
 ],
 "metadata": {
  "kernelspec": {
   "display_name": "base",
   "language": "python",
   "name": "python3"
  },
  "language_info": {
   "codemirror_mode": {
    "name": "ipython",
    "version": 3
   },
   "file_extension": ".py",
   "mimetype": "text/x-python",
   "name": "python",
   "nbconvert_exporter": "python",
   "pygments_lexer": "ipython3",
   "version": "3.11.5"
  },
  "orig_nbformat": 4
 },
 "nbformat": 4,
 "nbformat_minor": 2
}
