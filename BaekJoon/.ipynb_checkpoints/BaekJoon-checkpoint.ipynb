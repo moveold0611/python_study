{
 "cells": [
  {
   "cell_type": "code",
   "execution_count": 109,
   "id": "28291008",
   "metadata": {},
   "outputs": [
    {
     "name": "stdout",
     "output_type": "stream",
     "text": [
      "x: 123\n",
      "[1, 2, 3]\n",
      "None\n",
      "100\n"
     ]
    }
   ],
   "source": [
    "# 참고\n",
    "x = list(map(int, input('x: ')))\n",
    "print(x)\n",
    "print(x.reverse())\n",
    "\n",
    "print(10**2) #제곱"
   ]
  },
  {
   "cell_type": "code",
   "execution_count": 111,
   "id": "e69c20a9",
   "metadata": {},
   "outputs": [
    {
     "name": "stdout",
     "output_type": "stream",
     "text": [
      "a: 472\n",
      "b: 385\n",
      "2360\n",
      "3776\n",
      "1416\n",
      "181720\n"
     ]
    }
   ],
   "source": [
    "# 2588\n",
    "a = int(input('a: '))\n",
    "b = list(map(int, input('b: ')))\n",
    "\n",
    "result = 0\n",
    "for i in range(1,len(b)+1):\n",
    "    c = a * b[-i]\n",
    "    print(c)\n",
    "    result = result + int((str(c) + ('0'*(i-1))))\n",
    "print(result)"
   ]
  },
  {
   "cell_type": "code",
   "execution_count": 2,
   "id": "2a2e94b5",
   "metadata": {},
   "outputs": [
    {
     "name": "stdout",
     "output_type": "stream",
     "text": [
      "x: 5\n",
      "a: 1\n",
      "b: 1\n",
      "Case #1: 1 + 1 = 2\n",
      "a: 2\n",
      "b: 3\n",
      "Case #2: 2 + 3 = 5\n",
      "a: 3\n",
      "b: 4\n",
      "Case #3: 3 + 4 = 7\n",
      "a: 9\n",
      "b: 8\n",
      "Case #4: 9 + 8 = 17\n",
      "a: 5\n",
      "b: 2\n",
      "Case #5: 5 + 2 = 7\n"
     ]
    }
   ],
   "source": [
    "# 11022\n",
    "x = int(input('x: '))\n",
    "\n",
    "for num in range(1, x+1):    \n",
    "    a = int(input('a: '))\n",
    "    b = int(input('b: '))\n",
    "    print(f'Case #{num}: {a} + {b} = {a+b}')"
   ]
  },
  {
   "cell_type": "code",
   "execution_count": 114,
   "id": "5b3b2fec",
   "metadata": {},
   "outputs": [
    {
     "name": "stdout",
     "output_type": "stream",
     "text": [
      "num: 77 77 7777\n",
      "7931\n"
     ]
    }
   ],
   "source": [
    "# 11382\n",
    "\n",
    "num = input('num: ')\n",
    "nums = num.split()\n",
    "\n",
    "b = 0\n",
    "for i in range(len(nums)):\n",
    "    b = b + int(nums[i])\n",
    "print(b)"
   ]
  }
 ],
 "metadata": {
  "kernelspec": {
   "display_name": "Python 3 (ipykernel)",
   "language": "python",
   "name": "python3"
  },
  "language_info": {
   "codemirror_mode": {
    "name": "ipython",
    "version": 3
   },
   "file_extension": ".py",
   "mimetype": "text/x-python",
   "name": "python",
   "nbconvert_exporter": "python",
   "pygments_lexer": "ipython3",
   "version": "3.11.4"
  }
 },
 "nbformat": 4,
 "nbformat_minor": 5
}
